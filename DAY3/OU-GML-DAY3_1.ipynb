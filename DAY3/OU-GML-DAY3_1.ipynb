{
 "cells": [
  {
   "cell_type": "raw",
   "id": "015ed444-d7c7-44f3-b592-8800ecfe543a",
   "metadata": {},
   "source": [
    "Recap\n",
    "--------\n",
    "GML\n",
    "Grpah\n",
    "types of graph\n",
    "networkx.Graph()\n",
    "networkx.DiGraph()\n",
    "|\n",
    "Raw ->Graph -> Features -> Model (GCN - node classification ; GAT - Social networks,NLP) ->evaluate ->deploy ->monitor\n",
    "\n",
    "numpy\n",
    "pandas\n",
    "matplotlib\n",
    "scipi\n",
    "scikitlearn\n",
    "torch  - DL\n",
    "pyspark - DA"
   ]
  },
  {
   "cell_type": "raw",
   "id": "1066797a-5cae-463c-975a-12c26af66360",
   "metadata": {},
   "source": [
    "Deep Learning(DL)\n",
    " m/c think as human\n",
    " neural network (nn) \n",
    " eye -->[human] -->[brain]  -> ... result\n",
    "     input          think  \n",
    "[inputlayer]  [hidden layer]  --> [outputlayer]\n",
    "f1 --\n",
    "f2 --\n",
    "f3 --\n",
    "   "
   ]
  },
  {
   "cell_type": "code",
   "execution_count": 1,
   "id": "9898b1d4-f8eb-44e0-b588-b53a5594604e",
   "metadata": {},
   "outputs": [
    {
     "name": "stdout",
     "output_type": "stream",
     "text": [
      "tensor([0., 0., 0., 1., 2.])\n"
     ]
    }
   ],
   "source": [
    "import torch\n",
    "import torch.nn as nn\n",
    "relu = nn.ReLU()\n",
    "\n",
    "x = torch.tensor([-2.0,-1.0,0.0,1.0,2.0])\n",
    "output = relu(x)\n",
    "print(output)"
   ]
  },
  {
   "cell_type": "code",
   "execution_count": 2,
   "id": "6414be0d-4bd2-4a14-979a-fd5aaf9ebc7b",
   "metadata": {},
   "outputs": [],
   "source": [
    "import torch\n",
    "import torch.nn.functional as F\n",
    "from torch_geometric.datasets import KarateClub\n",
    "from torch_geometric.nn import GATConv\n",
    "import matplotlib.pyplot as plt\n",
    "import networkx as nx"
   ]
  },
  {
   "cell_type": "code",
   "execution_count": 3,
   "id": "6fe9ff75-371f-4cbe-9c45-31ab4a90cfc5",
   "metadata": {},
   "outputs": [],
   "source": [
    "# Load the dataset\n",
    "dataset = KarateClub()\n",
    "data = dataset[0]"
   ]
  },
  {
   "cell_type": "code",
   "execution_count": 4,
   "id": "fbd93254-0ae7-48b0-8c21-1818f154b830",
   "metadata": {},
   "outputs": [],
   "source": [
    "# Define the GAT model\n",
    "class GAT(torch.nn.Module):\n",
    "    def __init__(self):\n",
    "        super().__init__()\n",
    "        self.gat1 = GATConv(in_channels=34, out_channels=8,heads=2)\n",
    "        self.gat2 = GATConv(in_channels=16, out_channels=4,heads=1)\n",
    "        \n",
    "    def forward(self, x, edge_index):\n",
    "        #x = F.dropout(x, p=0.6, training=self.training)\n",
    "        x = F.elu(self.gat1(x, edge_index))\n",
    "        #x = F.dropout(x, p=0.6, training=self.training)\n",
    "        x = self.gat2(x, edge_index)\n",
    "        #return F.log_softmax(x, dim=1)\n",
    "        return x"
   ]
  },
  {
   "cell_type": "code",
   "execution_count": 5,
   "id": "a466f0f5-b478-4b29-ad37-9fa968f818cb",
   "metadata": {},
   "outputs": [],
   "source": [
    "#help(torch.eye)\n",
    "data.x = torch.eye(data.num_nodes)\n",
    "data.train_mask = torch.zeros(data.num_nodes,dtype=torch.bool)\n",
    "data.train_mask[[0,1,33,23]] = True"
   ]
  },
  {
   "cell_type": "code",
   "execution_count": 6,
   "id": "816b5d4a-229a-4b9b-b00b-d1c0a8623d67",
   "metadata": {},
   "outputs": [],
   "source": [
    "model = GAT()\n",
    "optimizer = torch.optim.Adam(model.parameters(), lr=0.005, weight_decay=5e-4)"
   ]
  },
  {
   "cell_type": "code",
   "execution_count": 7,
   "id": "be78d941-e8b7-4642-9028-4c7bd158fc4a",
   "metadata": {},
   "outputs": [],
   "source": [
    "# Training function\n",
    "def train():\n",
    "    model.train()\n",
    "    optimizer.zero_grad()\n",
    "    out = model(data.x, data.edge_index)\n",
    "    loss = F.nll_loss(out[data.train_mask], data.y[data.train_mask])\n",
    "    loss.backward()\n",
    "    optimizer.step()\n",
    "    return loss.item()"
   ]
  },
  {
   "cell_type": "code",
   "execution_count": 8,
   "id": "22f14429-59e5-41c6-b4ef-200d59588a21",
   "metadata": {},
   "outputs": [],
   "source": [
    "# Test function\n",
    "def test():\n",
    "    model.eval()\n",
    "    out = model(data.x, data.edge_index)\n",
    "    pred = out.argmax(dim=1)\n",
    "    correct = (pred == data.y).sum()\n",
    "    acc = int(correct) / data.num_nodes\n",
    "    return acc,pred"
   ]
  },
  {
   "cell_type": "code",
   "execution_count": 9,
   "id": "06351bd1-e05d-487c-baac-3adbe05b8cac",
   "metadata": {},
   "outputs": [
    {
     "name": "stdout",
     "output_type": "stream",
     "text": [
      "Epoch:                             0,Loss:-0.045,Accuracy:0.7353\n",
      "Epoch:                            20,Loss:-1.115,Accuracy:0.6471\n",
      "Epoch:                            40,Loss:-2.808,Accuracy:0.6471\n",
      "Epoch:                            60,Loss:-5.517,Accuracy:0.6765\n",
      "Epoch:                            80,Loss:-9.337,Accuracy:0.6471\n",
      "Epoch:                           100,Loss:-14.342,Accuracy:0.6471\n",
      "Epoch:                           120,Loss:-20.867,Accuracy:0.6471\n",
      "Epoch:                           140,Loss:-28.887,Accuracy:0.6176\n",
      "Epoch:                           160,Loss:-38.177,Accuracy:0.6176\n",
      "Epoch:                           180,Loss:-48.586,Accuracy:0.5882\n",
      "Epoch:                           200,Loss:-60.089,Accuracy:0.5882\n"
     ]
    }
   ],
   "source": [
    "# Train the model\n",
    "for epoch in range(201):\n",
    "    loss = train()\n",
    "    acc,pred = test()\n",
    "    if epoch % 20 == 0:\n",
    "        print(f'Epoch:{epoch:30d},Loss:{loss:.3f},Accuracy:{acc:.4f}')"
   ]
  },
  {
   "cell_type": "raw",
   "id": "22bbb7ff-790f-4467-b2f1-1c0e94cbd7a8",
   "metadata": {},
   "source": [
    "# Visualize predictions\n",
    "\n",
    "Gobj = nx.karate_club_graph()\n",
    "color=['red' if label == 0 else 'blue' for label in pred.tolist()]\n",
    "nx.draw(Gobj,with_labels=True,node_color=color,node_size=500)"
   ]
  },
  {
   "cell_type": "code",
   "execution_count": 20,
   "id": "01f50941-c459-43a2-b104-63ca72e2915e",
   "metadata": {},
   "outputs": [
    {
     "name": "stdout",
     "output_type": "stream",
     "text": [
      "<class 'torch_geometric.data.data.Data'>\n"
     ]
    }
   ],
   "source": [
    "print(type(data))"
   ]
  },
  {
   "cell_type": "code",
   "execution_count": 24,
   "id": "47fdcd77-923f-4abe-b36b-48f5c0d2a066",
   "metadata": {},
   "outputs": [
    {
     "data": {
      "text/plain": [
       "8"
      ]
     },
     "execution_count": 24,
     "metadata": {},
     "output_type": "execute_result"
    }
   ],
   "source": [
    "Gobj = nx.Graph(data)\n",
    "Gobj.number_of_nodes()"
   ]
  },
  {
   "cell_type": "code",
   "execution_count": null,
   "id": "2436e053-bb49-4b39-bd5a-395c1e328db7",
   "metadata": {},
   "outputs": [],
   "source": [
    "nx.draw(Gobj,with_labels=True)"
   ]
  },
  {
   "cell_type": "code",
   "execution_count": null,
   "id": "d824af61-c9b6-4bfa-afe7-5b0392a238b2",
   "metadata": {},
   "outputs": [],
   "source": []
  }
 ],
 "metadata": {
  "kernelspec": {
   "display_name": "Python 3 (ipykernel)",
   "language": "python",
   "name": "python3"
  },
  "language_info": {
   "codemirror_mode": {
    "name": "ipython",
    "version": 3
   },
   "file_extension": ".py",
   "mimetype": "text/x-python",
   "name": "python",
   "nbconvert_exporter": "python",
   "pygments_lexer": "ipython3",
   "version": "3.12.3"
  }
 },
 "nbformat": 4,
 "nbformat_minor": 5
}
